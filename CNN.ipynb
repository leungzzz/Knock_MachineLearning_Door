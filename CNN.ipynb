{
 "cells": [
  {
   "cell_type": "markdown",
   "metadata": {},
   "source": [
    "### CNN\n",
    "\n",
    "前面所讲的都是fully connected NN, 如果要把NN应用到具体的目标上，比如图像，且着重考虑它的特性，NN能被简化么？\n",
    "\n",
    "首先图像都有哪些特性,考虑下面这幅图？\n",
    "\n",
    "![](./ml_png/7_image.jpg)\n",
    "\n",
    "①. 图像中感兴趣的pattern通常要比整幅图像要小得多，比如鸟儿身上的纹理、鸟喙等。亦即代表我们不需要让一个neuron“辐射”一整幅图像像素来找出这些局部性特征。换而言之，只需要让一个neuron连接到局部region而非整张图像即可感知图像的结构，这样还能大幅压缩params的总参数。\n",
    "\n",
    "②. 相同的pattern可能会出现在多幅图像的不同位置，如果针对这些不同位置的相类似的patterns分别要使用不同的weight来加以检测，那将导致资源浪费。换而言之，可以共用同一组weight参数来发现这些patterns.\n",
    "\n",
    "③. 下采样像素并不会造成目标在整幅图像中的位置、信息发生不可辨别的变化。换而言之，可通过下采样来使图像变小，这样NN就可以用更少的params来处理images.\n",
    "\n",
    "综上所述，有如下的Whole CNN方案：\n",
    "\n",
    "$$\n",
    "\\boxed{input} \\rightarrow \\boxed{Convolution} \\rightarrow  \\boxed{Maxpooling}  \\rightarrow \\boxed{Convolution}  \\rightarrow  \\boxed{Maxpooling} \\rightarrow  \\dots  \\rightarrow \\boxed{Flattern} \\rightarrow \\boxed{Fully \\  connected \\ feedforward \\ network} \\rightarrow \\boxed{output}\n",
    "$$\n",
    "\n",
    "![](./ml_png/7_the_whole_cnn.png)\n",
    "\n",
    "其中图像特性的①②与Convolution相关、③与maxpooling相关。\n"
   ]
  },
  {
   "cell_type": "markdown",
   "metadata": {},
   "source": [
    "#### CNN-convolution\n",
    "\n",
    "要素：image、filters(Matrices)\n",
    "\n",
    "其中filters中的参数是network待学习的参数。有如下filters\n",
    "\n",
    "$$\\left[ \\begin{array}{ccc}\n",
    "1 & -1 & -1 \\\\\n",
    "-1 & 1 & -1 \\\\\n",
    "-1 & -1 & 1 \\\\\n",
    "\\end{array}\\right]、\n",
    "\\left[\\begin{array}{ccc}\n",
    "-1 & 1 & -1 \\\\\n",
    "-1 & 1 & -1 \\\\\n",
    "-1 & 1 & -1 \\\\\n",
    "\\end{array}\\right]、\\dots\n",
    "$$\n",
    "\n",
    "其中的每一个filter都是用于检测一个$3\\times 3$大小的pattern.这是property1.\n",
    "\n",
    "Property2, 图像的不同位置可能出现相同的patterns。\n",
    "\n",
    "![](./ml_png/7_p2.png)\n",
    "\n",
    "如上图是同一个filter检测出这些patterns，当使用多个不同的filter时，可以按需查找不同类型的pattern.如下图为查找包含3个像素的竖直线段。由多个filters组成的matrices构成了tensor，被称为feature map，它包含了input的基本结构。\n",
    "\n",
    "![](./ml_png/7_p2_2.png)\n",
    "\n",
    "此处要分清：filter的通道维数应该与image的通道维数保持一致；filter的个数决定了feature map的通道个数。比如以彩色RGB图像为例，完成一次convolution，那么它的每个filter的通道数为3.使用了3个filters，那么它们的卷积结果就为通道数目为3的feature map."
   ]
  },
  {
   "cell_type": "markdown",
   "metadata": {},
   "source": [
    "### Fully Connected V.S Convolution\n",
    "\n",
    "FC就是每个input值（图像中的所有单个像素值）都与下一层Layer的所有neuron相连。如下图，为方便理解，先把图像按一定顺序排列为向量形式。\n",
    "\n",
    "![](./ml_png/7_fc.png)\n",
    "\n",
    "而在convolution中，则是部分input值与下一层layer的neuron通过filter中的params相连，并且这些params是可以传递给下一组input的。如下图\n",
    "\n",
    "![](./ml_png/7_fc_conv_comp.png)\n",
    "\n"
   ]
  }
 ],
 "metadata": {
  "anaconda-cloud": {},
  "kernelspec": {
   "display_name": "Python [default]",
   "language": "python",
   "name": "python3"
  },
  "language_info": {
   "codemirror_mode": {
    "name": "ipython",
    "version": 3
   },
   "file_extension": ".py",
   "mimetype": "text/x-python",
   "name": "python",
   "nbconvert_exporter": "python",
   "pygments_lexer": "ipython3",
   "version": "3.5.2"
  }
 },
 "nbformat": 4,
 "nbformat_minor": 1
}
